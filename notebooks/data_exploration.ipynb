{
 "cells": [
  {
   "cell_type": "code",
   "execution_count": 1,
   "id": "initial_id",
   "metadata": {
    "collapsed": true,
    "ExecuteTime": {
     "end_time": "2024-02-27T11:09:18.248793400Z",
     "start_time": "2024-02-27T11:09:18.208440900Z"
    }
   },
   "outputs": [],
   "source": [
    "import json\n",
    "import numpy as np\n",
    "import pandas as pd\n",
    "# from src import *"
   ]
  },
  {
   "cell_type": "code",
   "outputs": [],
   "source": [
    "# Set path to data\n",
    "path = '../data/raw/CDSA_.xlsx'\n",
    "\n",
    "# Import data\n",
    "cdsa = pd.read_excel(path, sheet_name='CDSA')\n",
    "labs = pd.read_excel(path, sheet_name='repeat2')\n",
    "cnss = pd.read_excel(path, sheet_name='repeat1_001')\n",
    "cvss = pd.read_excel(path, sheet_name='repeat1_002')\n",
    "urss = pd.read_excel(path, sheet_name='repeat1_003')\n",
    "lrss = pd.read_excel(path, sheet_name='repeat1_004')\n",
    "gits = pd.read_excel(path, sheet_name='repeat1_005')\n",
    "guss = pd.read_excel(path, sheet_name='repeat1_006')\n",
    "msss = pd.read_excel(path, sheet_name='repeat1_007')\n",
    "skns = pd.read_excel(path, sheet_name='repeat1_008')\n",
    "spss = pd.read_excel(path, sheet_name='repeat1_009')\n",
    "oths = pd.read_excel(path, sheet_name='repeat1_010')\n",
    "\n",
    "# Import columns from json file\n",
    "with open('../data/dictionaries/columns.json') as f:\n",
    "    columns, multiple_entry_cols, diagnosis = json.load(f).values()"
   ],
   "metadata": {
    "collapsed": false,
    "ExecuteTime": {
     "end_time": "2024-02-27T11:09:27.065399100Z",
     "start_time": "2024-02-27T11:09:18.244160400Z"
    }
   },
   "id": "6e1c9d3b69517b58",
   "execution_count": 2
  },
  {
   "cell_type": "code",
   "outputs": [
    {
     "data": {
      "text/plain": "{'gen_signs': ['Swelling of limbs (Oedema)',\n  'Night sweats',\n  'Skin being cold or clammy',\n  'Skin turning pale',\n  'Skin turning bluish color (cyanosis)']}"
     },
     "execution_count": 3,
     "metadata": {},
     "output_type": "execute_result"
    }
   ],
   "source": [
    "for k, v in columns.items():\n",
    "    if k in multiple_entry_cols:\n",
    "        multiple_entry_cols[v] = multiple_entry_cols.pop(k)\n",
    "        \n",
    "multiple_entry_cols"
   ],
   "metadata": {
    "collapsed": false,
    "ExecuteTime": {
     "end_time": "2024-02-27T11:09:27.093062200Z",
     "start_time": "2024-02-27T11:09:27.068667600Z"
    }
   },
   "id": "44444edc35cf57b6",
   "execution_count": 3
  },
  {
   "cell_type": "code",
   "outputs": [],
   "source": [
    "def select_columns(df: pd.DataFrame,\n",
    "                          columns: dict,\n",
    "                          rename: bool = True) -> pd.DataFrame:\n",
    "    \"\"\"\n",
    "    Filter columns of a dataframe based on the keys of a dictionary.\n",
    "    \"\"\"\n",
    "    df_ = df[df.columns.intersection(columns.keys())]\n",
    "    if rename:\n",
    "        df_ = df_.rename(columns=columns)\n",
    "    return df_\n",
    "\n",
    "cdsa_ = select_columns(cdsa, columns)\n",
    "labs_ = select_columns(labs, columns)\n",
    "cnss_ = select_columns(cnss, columns)\n",
    "cvss_ = select_columns(cvss, columns)\n",
    "urss_ = select_columns(urss, columns)\n",
    "lrss_ = select_columns(lrss, columns)\n",
    "gits_ = select_columns(gits, columns)\n",
    "guss_ = select_columns(guss, columns)\n",
    "msss_ = select_columns(msss, columns)\n",
    "skns_ = select_columns(skns, columns)\n",
    "spss_ = select_columns(spss, columns)\n",
    "oths_ = select_columns(oths, columns)"
   ],
   "metadata": {
    "collapsed": false,
    "ExecuteTime": {
     "end_time": "2024-02-27T11:09:27.222667200Z",
     "start_time": "2024-02-27T11:09:27.082854300Z"
    }
   },
   "id": "fcba3c774851d055",
   "execution_count": 4
  },
  {
   "cell_type": "code",
   "outputs": [
    {
     "name": "stdout",
     "output_type": "stream",
     "text": [
      "<class 'pandas.core.frame.DataFrame'>\n",
      "RangeIndex: 11314 entries, 0 to 11313\n",
      "Data columns (total 30 columns):\n",
      " #   Column             Non-Null Count  Dtype  \n",
      "---  ------             --------------  -----  \n",
      " 0   county             3199 non-null   object \n",
      " 1   patient_id         3769 non-null   object \n",
      " 2   age                3766 non-null   float64\n",
      " 3   sex                3751 non-null   object \n",
      " 4   temperature        2961 non-null   float64\n",
      " 5   triage_            302 non-null    object \n",
      " 6   blood_pressure     1026 non-null   object \n",
      " 7   weight             2958 non-null   float64\n",
      " 8   failure_to_thrive  1247 non-null   object \n",
      " 9   height             2585 non-null   float64\n",
      " 10  stunting           1066 non-null   object \n",
      " 11  spo2               1973 non-null   float64\n",
      " 12  chills             2771 non-null   object \n",
      " 13  muac               972 non-null    object \n",
      " 14  gen_signs          557 non-null    object \n",
      " 15  lab_investigation  3759 non-null   object \n",
      " 16  diagnosis          7038 non-null   object \n",
      " 17  _uuid              11314 non-null  object \n",
      " 18  cns_signs          3094 non-null   object \n",
      " 19  duration           6730 non-null   float64\n",
      " 20  cvs_signs          68 non-null     object \n",
      " 21  urs_signs          2049 non-null   object \n",
      " 22  lrs_signs          2464 non-null   object \n",
      " 23  git_signs          2934 non-null   object \n",
      " 24  gus_signs          104 non-null    object \n",
      " 25  mss_signs          4018 non-null   object \n",
      " 26  skn_signs          122 non-null    object \n",
      " 27  sps_signs          640 non-null    object \n",
      " 28  oth_signs          640 non-null    object \n",
      " 29  lab_test           6029 non-null   object \n",
      "dtypes: float64(6), object(24)\n",
      "memory usage: 2.6+ MB\n"
     ]
    }
   ],
   "source": [
    "# Merge dataframes\n",
    "ss = pd.merge(cnss_, cvss_, on=cnss_.columns.intersection(cvss_.columns).tolist(), how='outer')\n",
    "ss = pd.merge(ss, urss_, on=ss.columns.intersection(urss_.columns).tolist(), how='outer')\n",
    "ss = pd.merge(ss, lrss_, on=ss.columns.intersection(lrss_.columns).tolist(), how='outer')\n",
    "ss = pd.merge(ss, gits_, on=ss.columns.intersection(gits_.columns).tolist(), how='outer')\n",
    "ss = pd.merge(ss, guss_, on=ss.columns.intersection(guss_.columns).tolist(), how='outer')\n",
    "ss = pd.merge(ss, msss_, on=ss.columns.intersection(msss_.columns).tolist(), how='outer')\n",
    "ss = pd.merge(ss, skns_, on=ss.columns.intersection(skns_.columns).tolist(), how='outer')\n",
    "ss = pd.merge(ss, spss_, on=ss.columns.intersection(spss_.columns).tolist(), how='outer')\n",
    "ss = pd.merge(ss, oths_, on=ss.columns.intersection(oths_.columns).tolist(), how='outer')\n",
    "ss = pd.merge(ss, labs_, on=ss.columns.intersection(labs_.columns).tolist(), how='outer')\n",
    "df = pd.merge(cdsa_, ss, on=cdsa_.columns.intersection(ss.columns).tolist(), how='outer')\n",
    "\n",
    "df.drop_duplicates(ignore_index=True, inplace=True)\n",
    "df.info()"
   ],
   "metadata": {
    "collapsed": false,
    "ExecuteTime": {
     "end_time": "2024-02-27T11:09:27.466980600Z",
     "start_time": "2024-02-27T11:09:27.130527400Z"
    }
   },
   "id": "5f45d57854ea1f1a",
   "execution_count": 5
  },
  {
   "cell_type": "code",
   "outputs": [
    {
     "name": "stdout",
     "output_type": "stream",
     "text": [
      "<class 'pandas.core.frame.DataFrame'>\n",
      "RangeIndex: 11581 entries, 0 to 11580\n",
      "Data columns (total 30 columns):\n",
      " #   Column             Non-Null Count  Dtype  \n",
      "---  ------             --------------  -----  \n",
      " 0   county             10078 non-null  object \n",
      " 1   patient_id         11567 non-null  object \n",
      " 2   age                11558 non-null  float64\n",
      " 3   sex                11486 non-null  object \n",
      " 4   temperature        9044 non-null   float64\n",
      " 5   triage_            749 non-null    object \n",
      " 6   blood_pressure     3579 non-null   object \n",
      " 7   weight             9198 non-null   float64\n",
      " 8   failure_to_thrive  3123 non-null   object \n",
      " 9   height             8123 non-null   float64\n",
      " 10  stunting           2601 non-null   object \n",
      " 11  spo2               5608 non-null   float64\n",
      " 12  chills             7805 non-null   object \n",
      " 13  muac               2745 non-null   object \n",
      " 14  gen_signs          2173 non-null   object \n",
      " 15  lab_investigation  11561 non-null  object \n",
      " 16  diagnosis          11499 non-null  object \n",
      " 17  _uuid              11581 non-null  object \n",
      " 18  cns_signs          3099 non-null   object \n",
      " 19  duration           6736 non-null   float64\n",
      " 20  cvs_signs          68 non-null     object \n",
      " 21  urs_signs          2053 non-null   object \n",
      " 22  lrs_signs          2468 non-null   object \n",
      " 23  git_signs          2938 non-null   object \n",
      " 24  gus_signs          108 non-null    object \n",
      " 25  mss_signs          4023 non-null   object \n",
      " 26  skn_signs          122 non-null    object \n",
      " 27  sps_signs          641 non-null    object \n",
      " 28  oth_signs          644 non-null    object \n",
      " 29  lab_test           6029 non-null   object \n",
      "dtypes: float64(6), object(24)\n",
      "memory usage: 2.7+ MB\n"
     ]
    }
   ],
   "source": [
    "def split_cells(df: pd.DataFrame,\n",
    "                column: str,\n",
    "                uv: list = None,\n",
    "                sep: str = \"&\") -> pd.DataFrame:\n",
    "    \"\"\"\n",
    "    Split the cells of a column into multiple rows\n",
    "    \"\"\"\n",
    "    if uv is None:\n",
    "        df.rename(columns={column: \"col\"}, inplace=True)\n",
    "        df = df.assign(col=df[\"col\"].str.split(sep)).explode(\"col\").reset_index(drop=True)\n",
    "        df.rename(columns={\"col\": column}, inplace=True)\n",
    "    else:\n",
    "        if not isinstance(uv, list):\n",
    "            uv = list(uv)\n",
    "        for i in uv:\n",
    "            df[column] = df[column].str.replace(i, sep + i + sep)\n",
    "        df[column] = df[column].str.replace(sep + r\"\\s+\", sep, regex=True)\n",
    "        df[column] = df[column].str.replace(sep + r\"$\", \"\", regex=True)\n",
    "        df[column] = df[column].str.replace(r\"^\" + sep, \"\", regex=True)\n",
    "        df[column] = df[column].str.replace(sep + sep, sep)\n",
    "\n",
    "        df.rename(columns={column: \"col\"}, inplace=True)\n",
    "        df = df.assign(col=df[\"col\"].str.split(sep)).explode(\"col\").reset_index(drop=True)\n",
    "        df.rename(columns={\"col\": column}, inplace=True)\n",
    "\n",
    "        df[column] = df[column].str.strip()\n",
    "\n",
    "    return df\n",
    "\n",
    "# Split cells\n",
    "for k, v in multiple_entry_cols.items():\n",
    "    df = split_cells(df, k, v)\n",
    "    \n",
    "# Drop duplicates in every column except duration\n",
    "df.drop_duplicates(subset=df.columns.difference([\"duration\"]), inplace=True)\n",
    "\n",
    "# Repopulate the cdsa columns\n",
    "for col in df.columns.intersection(cdsa_.columns):\n",
    "    df[col] = df.groupby(\"_uuid\")[col].transform(\"first\")\n",
    "    \n",
    "df.info()"
   ],
   "metadata": {
    "collapsed": false,
    "ExecuteTime": {
     "end_time": "2024-02-27T11:10:24.662554800Z",
     "start_time": "2024-02-27T11:10:23.665128800Z"
    }
   },
   "id": "7cf90aecc27347f0",
   "execution_count": 7
  },
  {
   "cell_type": "code",
   "outputs": [
    {
     "name": "stdout",
     "output_type": "stream",
     "text": [
      "<class 'pandas.core.frame.DataFrame'>\n",
      "Index: 27344 entries, 0 to 57904\n",
      "Data columns (total 27 columns):\n",
      " #   Column             Non-Null Count  Dtype  \n",
      "---  ------             --------------  -----  \n",
      " 0   county             23809 non-null  object \n",
      " 1   patient_id         27312 non-null  object \n",
      " 2   age                27292 non-null  float64\n",
      " 3   sex                27118 non-null  object \n",
      " 4   temperature        21985 non-null  float64\n",
      " 5   blood_pressure     8339 non-null   object \n",
      " 6   weight             22205 non-null  float64\n",
      " 7   height             19573 non-null  float64\n",
      " 8   spo2               13892 non-null  float64\n",
      " 9   muac               7325 non-null   object \n",
      " 10  gen_signs          5134 non-null   object \n",
      " 11  lab_investigation  27304 non-null  object \n",
      " 12  diagnosis          27166 non-null  object \n",
      " 13  _uuid              27344 non-null  object \n",
      " 14  cns_signs          7418 non-null   object \n",
      " 15  duration           16306 non-null  float64\n",
      " 16  cvs_signs          180 non-null    object \n",
      " 17  urs_signs          4958 non-null   object \n",
      " 18  lrs_signs          5887 non-null   object \n",
      " 19  git_signs          6909 non-null   object \n",
      " 20  gus_signs          301 non-null    object \n",
      " 21  mss_signs          9549 non-null   object \n",
      " 22  skn_signs          306 non-null    object \n",
      " 23  sps_signs          1572 non-null   object \n",
      " 24  oth_signs          1575 non-null   object \n",
      " 25  lab_test           13944 non-null  object \n",
      " 26  trg_signs          16779 non-null  object \n",
      "dtypes: float64(6), object(21)\n",
      "memory usage: 5.8+ MB\n"
     ]
    }
   ],
   "source": [
    "# Construct triage_signs\n",
    "df[\"fever\"] = np.where(df[\"temperature\"] > 37.5, \"Fever\", np.nan)\n",
    "df[\"failure_to_thrive\"] = np.where(df[\"failure_to_thrive\"] == \"Yes\", \"Failure to thrive\", np.nan)\n",
    "df[\"stunting\"] = np.where(df[\"stunting\"] == \"Yes\", \"Stunting\", np.nan)\n",
    "df[\"chills\"] = np.where(df[\"chills\"] == \"Yes\", \"Chills\", np.nan)\n",
    "\n",
    "triage_cols = [\"triage_\", \"fever\", \"failure_to_thrive\", \"stunting\", \"chills\"]\n",
    "\n",
    "df = pd.melt(df, id_vars=[i for i in df.columns if i not in triage_cols],\n",
    "             value_vars=triage_cols, var_name=\"trg\", value_name=\"trg_signs\").drop(\"trg\", axis=1).drop_duplicates()\n",
    "\n",
    "df.info()"
   ],
   "metadata": {
    "collapsed": false,
    "ExecuteTime": {
     "end_time": "2024-02-27T11:10:26.069090500Z",
     "start_time": "2024-02-27T11:10:24.650579500Z"
    }
   },
   "id": "bb887b837109e395",
   "execution_count": 8
  },
  {
   "cell_type": "code",
   "outputs": [],
   "source": [
    "# Convert all the object values to lowercase and remove leading and trailing whitespaces\n",
    "for col in df.select_dtypes(include=\"object\").columns:\n",
    "    df[col] = df[col].str.replace(r\"\\s+\", \" \", regex=True)\n",
    "    df[col] = df[col].str.lower().str.strip()"
   ],
   "metadata": {
    "collapsed": false,
    "ExecuteTime": {
     "end_time": "2024-02-27T11:10:29.012657200Z",
     "start_time": "2024-02-27T11:10:25.997751400Z"
    }
   },
   "id": "7ead5726ba7250c0",
   "execution_count": 9
  },
  {
   "cell_type": "code",
   "outputs": [
    {
     "data": {
      "text/plain": "diagnosis\npneumonia                     0.141942\ntyphoid                       0.128838\ncovid                         0.124347\nmalnutrition                  0.110763\ndiarrhoea                     0.101782\n                                ...   \nunsevere malaria gastritis    0.000147\nmeningitis                    0.000110\npoisoningkerosene             0.000074\nrecurrent tonsilitis          0.000074\nepilepsy                      0.000074\nName: proportion, Length: 128, dtype: float64"
     },
     "execution_count": 10,
     "metadata": {},
     "output_type": "execute_result"
    }
   ],
   "source": [
    "df[\"diagnosis\"] = df[\"diagnosis\"].str.replace(r\"\\d+\", \"\", regex=True)\n",
    "df[\"diagnosis\"] = df[\"diagnosis\"].str.replace(\"/\", \" andor \")\n",
    "df[\"diagnosis\"] = df[\"diagnosis\"].str.replace(r\"[^a-zA-Z0-9\\s]\", \"\", regex=True)\n",
    "df[\"diagnosis\"] = df[\"diagnosis\"].str.replace(\" andor \", \"/\", regex=True)\n",
    "\n",
    "# Correct misspelled words\n",
    "df[\"diagnosis\"] = df[\"diagnosis\"].str.replace(\"diarrhea\", \"diarrhoea\")\n",
    "df[\"diagnosis\"] = df[\"diagnosis\"].str.replace(\"g e\", \"gastroenteritis\")\n",
    "df[\"diagnosis\"] = df[\"diagnosis\"].str.replace(\"tuber culosis\", \"tuberculosis\")\n",
    "df[\"diagnosis\"] = df[\"diagnosis\"].str.replace(\"tb\", \"tuberculosis\")\n",
    "df[\"diagnosis\"] = df[\"diagnosis\"].str.replace(\"s malaria\", \"malaria\")\n",
    "df[\"diagnosis\"] = df[\"diagnosis\"].str.replace(\"pmeumonia\", \"pneumonia\")\n",
    "df[\"diagnosis\"] = df[\"diagnosis\"].str.replace(\"urti\", \"uti\")\n",
    "df[\"diagnosis\"] = df[\"diagnosis\"].str.replace(\"anaemiasickle cell\", \"sickle cell\")\n",
    "df[\"diagnosis\"] = df[\"diagnosis\"].str.replace(\"extra pulmonary\", \"extrapulmonary\")\n",
    "df[\"diagnosis\"] = df[\"diagnosis\"].str.replace(\"malnourished\", \"malnutrition\")\n",
    "df[\"diagnosis\"] = df[\"diagnosis\"].str.replace(r\"\\bty\\b\", \"typhoid\", regex=True)\n",
    "df[\"diagnosis\"] = df[\"diagnosis\"].str.replace(r\"\\btyphoi\\b\", \"typhoid\", regex=True)\n",
    "df[\"diagnosis\"] = df[\"diagnosis\"].str.replace(\"complicated\", \"severe\")\n",
    "df[\"diagnosis\"] = df[\"diagnosis\"].str.replace(r\"\\bty\\b\", \"typhoid\", regex=True)\n",
    "df[\"diagnosis\"] = df[\"diagnosis\"].str.replace(r\"\\bmenegititis\\b\", \"meningitis\", regex=True)\n",
    "\n",
    "df[\"diagnosis\"] = df[\"diagnosis\"].str.replace(r\"\\s+\", \" \", regex=True)\n",
    "df[\"diagnosis\"] = df[\"diagnosis\"].str.strip()\n",
    "\n",
    "df[\"diagnosis\"] = df[\"diagnosis\"].str.replace(\"cough cold\", \"cough/cold\")\n",
    "df[\"diagnosis\"] = df[\"diagnosis\"].str.replace(\"cough and cold\", \"cough/cold\")\n",
    "df[\"diagnosis\"] = df[\"diagnosis\"].str.replace(\"pneuonitis\", \"pneumonitis\")\n",
    "df[\"diagnosis\"] = df[\"diagnosis\"].str.replace(\"no pneumonia\", \"\")\n",
    "df[\"diagnosis\"] = df[\"diagnosis\"].str.replace(\"no ova and cyst\", \"\")\n",
    "\n",
    "df.diagnosis.value_counts(normalize=True)"
   ],
   "metadata": {
    "collapsed": false,
    "ExecuteTime": {
     "end_time": "2024-02-27T11:10:30.246260700Z",
     "start_time": "2024-02-27T11:10:29.012779900Z"
    }
   },
   "id": "dbf9120906ceacb0",
   "execution_count": 10
  },
  {
   "cell_type": "code",
   "outputs": [
    {
     "name": "stdout",
     "output_type": "stream",
     "text": [
      "abdominal tuberculosis\n",
      "acute diarrhoea\n",
      "acute gastroenteritis\n",
      "acute watery diarrhoea\n",
      "adenitis\n",
      "allergic pruritus\n",
      "allergic reaction\n",
      "allergic skin disease\n",
      "anaemia\n",
      "aspiration pneumonia\n",
      "asthma\n",
      "bacterial pneumonia\n",
      "bloody diarrhoea\n",
      "boil\n",
      "bronchopneumonia\n",
      "cerebral malaria\n",
      "cough/cold\n",
      "covid\n",
      "diarrhoea\n",
      "diarrhoea with dehydration\n",
      "diarrhoea with no dehydration\n",
      "diarrhoea with severe dehydration\n",
      "diarrhoea with some dehydration\n",
      "dysentery\n",
      "ear infection\n",
      "extrapulmonary tuberculosis\n",
      "flu\n",
      "gastroenteritis\n",
      "heat rash\n",
      "hydrocephalus\n",
      "leukocytosis\n",
      "lobar pneumonia\n",
      "malaria\n",
      "malnutrition\n",
      "meningitis\n",
      "moderate acute malnutrition\n",
      "moderate anaemia\n",
      "moderate covid\n",
      "multidrug resistant tuberculosis\n",
      "peptic ulcer disease\n",
      "perihilar pneumonitis\n",
      "pleural effusion\n",
      "pneumonia\n",
      "pneumonitis\n",
      "pulmonary tuberculosis\n",
      "severe acute malnutrition\n",
      "severe anaemia\n",
      "severe covid\n",
      "severe malaria\n",
      "severe pneumonia\n",
      "sickle cell\n",
      "skin rash\n",
      "thrombocytopenia\n",
      "tonsillitis\n",
      "tuberculosis\n",
      "uti\n"
     ]
    }
   ],
   "source": [
    "for i in sorted(diagnosis):\n",
    "    print(i)"
   ],
   "metadata": {
    "collapsed": false,
    "ExecuteTime": {
     "end_time": "2024-02-27T11:10:30.317122200Z",
     "start_time": "2024-02-27T11:10:30.240833Z"
    }
   },
   "id": "f3723f9164ccb369",
   "execution_count": 11
  },
  {
   "cell_type": "code",
   "outputs": [
    {
     "data": {
      "text/plain": "diagnosis\npneumonia                5380\nmalaria                  4779\nmalnutrition             3606\ncovid                    3482\ndiarrhoea                3140\ntuberculosis             1476\ngastroenteritis           998\ncough/cold                 72\nuti                        40\nmeningitis                 24\npneumonitis                22\nsickle cell                17\nflu                        16\nleukocytosis               12\ndysentery                  12\ntonsillitis                12\nanaemia                    12\nheat rash                  10\nasthma                     10\nallergic reaction           9\npleural effusion            9\nadenitis                    7\nhydrocephalus               6\nskin rash                   4\near infection               4\nallergic skin disease       4\npeptic ulcer disease        4\nallergic pruritus           4\nboil                        4\nName: count, dtype: int64"
     },
     "execution_count": 12,
     "metadata": {},
     "output_type": "execute_result"
    }
   ],
   "source": [
    "df = split_cells(df, \"diagnosis\", diagnosis)\n",
    "\n",
    "# If a value is not in the diagnosis list, replace it with NaN\n",
    "df[\"diagnosis\"] = df[\"diagnosis\"].where(df[\"diagnosis\"].isin(diagnosis), np.nan)\n",
    "\n",
    "df.diagnosis.value_counts()"
   ],
   "metadata": {
    "collapsed": false,
    "ExecuteTime": {
     "end_time": "2024-02-27T11:10:35.014865900Z",
     "start_time": "2024-02-27T11:10:30.256911800Z"
    }
   },
   "id": "c019dfec5ef4779a",
   "execution_count": 12
  },
  {
   "cell_type": "code",
   "outputs": [],
   "source": [
    "# df[[\"_uuid\", \"diagnosis\"]].dropna(subset=\"diagnosis\").drop_duplicates().diagnosis.value_counts()"
   ],
   "metadata": {
    "collapsed": false,
    "ExecuteTime": {
     "end_time": "2024-02-27T11:10:35.020421Z",
     "start_time": "2024-02-27T11:10:35.009270500Z"
    }
   },
   "id": "bf95c421c345f439",
   "execution_count": 13
  },
  {
   "cell_type": "code",
   "outputs": [],
   "source": [
    "# df[\"diagnosis\"] = df[\"diagnosis\"].str.replace(\"/\", \" andor \")\n",
    "# df[\"diagnosis\"] = df[\"diagnosis\"].str.replace(r\"[^a-zA-Z0-9\\s]\", \"\", regex=True)\n",
    "# df[\"diagnosis\"] = df[\"diagnosis\"].str.replace(\" andor \", \"/\", regex=True)\n",
    "# df[\"diagnosis\"] = df[\"diagnosis\"].str.replace(\"positive\", \"\", regex=True)\n",
    "# df[\"diagnosis\"] = df[\"diagnosis\"].str.replace(\"negative\", \"\", regex=True)\n",
    "# df[\"diagnosis\"] = df[\"diagnosis\"].str.replace(\"confirmed\", \"\", regex=True)\n",
    "# df[\"diagnosis\"] = df[\"diagnosis\"].str.replace(\"in pregnancy\", \"\", regex=True)\n",
    "# df[\"diagnosis\"] = df[\"diagnosis\"].str.replace(\"community acquired\", \"\", regex=True)\n",
    "# df[\"diagnosis\"] = df[\"diagnosis\"].str.replace(\"no pneumonia\", \"\", regex=True)\n",
    "# df[\"diagnosis\"] = df[\"diagnosis\"].str.replace(r\"\\bde\\b\", \"\", regex=True)\n",
    "# df[\"diagnosis\"] = df[\"diagnosis\"].str.replace(\"fever\", \"\", regex=True)\n",
    "# df[\"diagnosis\"] = df[\"diagnosis\"].str.replace(\"acute abdominal pain\", \"\", regex=True)\n",
    "# df[\"diagnosis\"] = df[\"diagnosis\"].str.replace(\"diarrhea\", \"diarrhoea\", regex=True)\n",
    "# df[\"diagnosis\"] = df[\"diagnosis\"].str.replace(\"g e\", \"gastroenteritis\", regex=True)\n",
    "# df[\"diagnosis\"] = df[\"diagnosis\"].str.replace(\"tuber culosis\", \"tuberculosis\", regex=True)\n",
    "# df[\"diagnosis\"] = df[\"diagnosis\"].str.replace(\"tb\", \"tuberculosis\", regex=True)\n",
    "# df[\"diagnosis\"] = df[\"diagnosis\"].str.replace(\"uncomplicated malaria\", \"malaria\", regex=True)\n",
    "# df[\"diagnosis\"] = df[\"diagnosis\"].str.replace(\"complicated malaria\", \"severe malaria\", regex=True)\n",
    "# df[\"diagnosis\"] = df[\"diagnosis\"].str.replace(\"s malaria\", \"severe malaria\", regex=True)\n",
    "# df[\"diagnosis\"] = df[\"diagnosis\"].str.replace(\"pmeumonia\", \"pneumonia\", regex=True)\n",
    "# df[\"diagnosis\"] = df[\"diagnosis\"].str.replace(\"urti\", \"uti\", regex=True)\n",
    "# df[\"diagnosis\"] = df[\"diagnosis\"].str.replace(\" cough cold\", \" cough/cold\", regex=True)\n",
    "# df[\"diagnosis\"] = df[\"diagnosis\"].str.replace(\"cough and cold\", \"cough/cold\", regex=True)\n",
    "# df[\"diagnosis\"] = df[\"diagnosis\"].str.replace(\" cough cold\", \" cough/cold\", regex=True)\n",
    "# df[\"diagnosis\"] = df[\"diagnosis\"].str.replace(\"anaemiasickle cell\", \"sickle cell\", regex=True)\n",
    "# df[\"diagnosis\"] = df[\"diagnosis\"].str.replace(\"extra pulmonary\", \"extrapulmonary\", regex=True)\n",
    "# # df[\"diagnosis\"] = df[\"diagnosis\"].str.replace(\"malnourished\", \"malnutrition\", regex=True)\n",
    "# # df[\"diagnosis\"] = df[\"diagnosis\"].str.replace(r\"\\bty\\b\", \"typhoid\", regex=True)\n",
    "# # df[\"diagnosis\"] = df[\"diagnosis\"].str.replace(r\"\\bsickle cell\\b\", \"sickle cell anaemia\", regex=True)\n",
    "# # df[\"diagnosis\"] = df[\"diagnosis\"].str.replace(r\"\\bmenegititis\\b\", \"menengitis\", regex=True)\n",
    "# # df[\"diagnosis\"] = df[\"diagnosis\"].str.replace(r\"\\bde\\b\", \"\", regex=True)\n",
    "# \n",
    "# df['diagnosis'] = df['diagnosis'].str.replace(r\"\\s+\", \" \", regex=True)\n",
    "# df[\"diagnosis\"] = df[\"diagnosis\"].str.replace(r\"\\d+\", \"\", regex=True)\n",
    "# df[\"diagnosis\"] = df[\"diagnosis\"].str.strip()\n",
    "# \n",
    "# df.diagnosis.value_counts(normalize=True)"
   ],
   "metadata": {
    "collapsed": false,
    "ExecuteTime": {
     "end_time": "2024-02-27T11:10:35.038377500Z",
     "start_time": "2024-02-27T11:10:35.023862400Z"
    }
   },
   "id": "5c21611b30aca8bf",
   "execution_count": 14
  },
  {
   "cell_type": "code",
   "outputs": [
    {
     "data": {
      "text/plain": "        county   patient_id   age     sex  temperature blood_pressure  weight  \\\n0       kisumu    564378/21  26.0    male          NaN           None   66.00   \n1       kisumu    564378/21  26.0    male          NaN           None   66.00   \n8       kilifi  366903/2021  81.0  female         36.7         103/68     NaN   \n11      kisumu    584733/21  22.0  female         35.9           None   86.00   \n15      kisumu    535169/20  25.0    male         36.4         125/78   60.00   \n...        ...          ...   ...     ...          ...            ...     ...   \n431753  kilifi  384734/2023   1.0  female         36.9           None    6.45   \n431754  kisumu       246/23   1.0  female          NaN           None    9.90   \n431755  kisumu    383614/19   1.0  female         36.9           None   10.00   \n431756  kisumu    647920/22   4.0    male         37.8           None   15.00   \n431757  kisumu    647920/22   4.0    male         37.8           None   15.00   \n\n        height   spo2  muac lab_investigation     diagnosis  \\\n0        168.0  100.0  None               yes           NaN   \n1        168.0  100.0  None               yes           NaN   \n8          NaN   98.0  None               yes           NaN   \n11       161.5    NaN  None               yes           NaN   \n15       162.0  100.0  None               yes           NaN   \n...        ...    ...   ...               ...           ...   \n431753    71.0   97.0   red                no  malnutrition   \n431754    78.0    NaN  None               yes  tuberculosis   \n431755     NaN    NaN  None               yes     pneumonia   \n431756   100.8  100.0  None               yes           NaN   \n431757   100.8  100.0  None               yes       malaria   \n\n                                       _uuid  duration           lab_test  \\\n0       2db2bd9b-7aea-4713-8b87-2aed40670629       1.0         haemogramm   \n1       2db2bd9b-7aea-4713-8b87-2aed40670629       1.0              x-ray   \n8       9f6310c4-aaf3-4752-874a-e09f1ac6f0cd       1.0                pcr   \n11      e07aea58-59c0-42b8-bd28-79858401435a       1.0                sat   \n15      0ae5856a-e684-4dcb-85b5-515c86f20fde       2.0  stool examination   \n...                                      ...       ...                ...   \n431753  ffc46af4-1d76-47a4-a5f5-df6dd3947dc8       3.0                NaN   \n431754  ffe78335-d242-4d4f-832a-0e8ed6767b88       NaN                NaN   \n431755  ffea0f90-ed7c-44a4-a5a5-053273a0589a       NaN                NaN   \n431756  ffef31f9-f929-46cf-9e69-cb209a7fdea0       NaN                NaN   \n431757  ffef31f9-f929-46cf-9e69-cb209a7fdea0       NaN                NaN   \n\n           system symptoms  \n0       trg_signs     None  \n1       trg_signs     None  \n8       trg_signs     None  \n11      trg_signs     None  \n15      trg_signs     None  \n...           ...      ...  \n431753  oth_signs      NaN  \n431754  oth_signs      NaN  \n431755  oth_signs      NaN  \n431756  oth_signs      NaN  \n431757  oth_signs      NaN  \n\n[137107 rows x 17 columns]",
      "text/html": "<div>\n<style scoped>\n    .dataframe tbody tr th:only-of-type {\n        vertical-align: middle;\n    }\n\n    .dataframe tbody tr th {\n        vertical-align: top;\n    }\n\n    .dataframe thead th {\n        text-align: right;\n    }\n</style>\n<table border=\"1\" class=\"dataframe\">\n  <thead>\n    <tr style=\"text-align: right;\">\n      <th></th>\n      <th>county</th>\n      <th>patient_id</th>\n      <th>age</th>\n      <th>sex</th>\n      <th>temperature</th>\n      <th>blood_pressure</th>\n      <th>weight</th>\n      <th>height</th>\n      <th>spo2</th>\n      <th>muac</th>\n      <th>lab_investigation</th>\n      <th>diagnosis</th>\n      <th>_uuid</th>\n      <th>duration</th>\n      <th>lab_test</th>\n      <th>system</th>\n      <th>symptoms</th>\n    </tr>\n  </thead>\n  <tbody>\n    <tr>\n      <th>0</th>\n      <td>kisumu</td>\n      <td>564378/21</td>\n      <td>26.0</td>\n      <td>male</td>\n      <td>NaN</td>\n      <td>None</td>\n      <td>66.00</td>\n      <td>168.0</td>\n      <td>100.0</td>\n      <td>None</td>\n      <td>yes</td>\n      <td>NaN</td>\n      <td>2db2bd9b-7aea-4713-8b87-2aed40670629</td>\n      <td>1.0</td>\n      <td>haemogramm</td>\n      <td>trg_signs</td>\n      <td>None</td>\n    </tr>\n    <tr>\n      <th>1</th>\n      <td>kisumu</td>\n      <td>564378/21</td>\n      <td>26.0</td>\n      <td>male</td>\n      <td>NaN</td>\n      <td>None</td>\n      <td>66.00</td>\n      <td>168.0</td>\n      <td>100.0</td>\n      <td>None</td>\n      <td>yes</td>\n      <td>NaN</td>\n      <td>2db2bd9b-7aea-4713-8b87-2aed40670629</td>\n      <td>1.0</td>\n      <td>x-ray</td>\n      <td>trg_signs</td>\n      <td>None</td>\n    </tr>\n    <tr>\n      <th>8</th>\n      <td>kilifi</td>\n      <td>366903/2021</td>\n      <td>81.0</td>\n      <td>female</td>\n      <td>36.7</td>\n      <td>103/68</td>\n      <td>NaN</td>\n      <td>NaN</td>\n      <td>98.0</td>\n      <td>None</td>\n      <td>yes</td>\n      <td>NaN</td>\n      <td>9f6310c4-aaf3-4752-874a-e09f1ac6f0cd</td>\n      <td>1.0</td>\n      <td>pcr</td>\n      <td>trg_signs</td>\n      <td>None</td>\n    </tr>\n    <tr>\n      <th>11</th>\n      <td>kisumu</td>\n      <td>584733/21</td>\n      <td>22.0</td>\n      <td>female</td>\n      <td>35.9</td>\n      <td>None</td>\n      <td>86.00</td>\n      <td>161.5</td>\n      <td>NaN</td>\n      <td>None</td>\n      <td>yes</td>\n      <td>NaN</td>\n      <td>e07aea58-59c0-42b8-bd28-79858401435a</td>\n      <td>1.0</td>\n      <td>sat</td>\n      <td>trg_signs</td>\n      <td>None</td>\n    </tr>\n    <tr>\n      <th>15</th>\n      <td>kisumu</td>\n      <td>535169/20</td>\n      <td>25.0</td>\n      <td>male</td>\n      <td>36.4</td>\n      <td>125/78</td>\n      <td>60.00</td>\n      <td>162.0</td>\n      <td>100.0</td>\n      <td>None</td>\n      <td>yes</td>\n      <td>NaN</td>\n      <td>0ae5856a-e684-4dcb-85b5-515c86f20fde</td>\n      <td>2.0</td>\n      <td>stool examination</td>\n      <td>trg_signs</td>\n      <td>None</td>\n    </tr>\n    <tr>\n      <th>...</th>\n      <td>...</td>\n      <td>...</td>\n      <td>...</td>\n      <td>...</td>\n      <td>...</td>\n      <td>...</td>\n      <td>...</td>\n      <td>...</td>\n      <td>...</td>\n      <td>...</td>\n      <td>...</td>\n      <td>...</td>\n      <td>...</td>\n      <td>...</td>\n      <td>...</td>\n      <td>...</td>\n      <td>...</td>\n    </tr>\n    <tr>\n      <th>431753</th>\n      <td>kilifi</td>\n      <td>384734/2023</td>\n      <td>1.0</td>\n      <td>female</td>\n      <td>36.9</td>\n      <td>None</td>\n      <td>6.45</td>\n      <td>71.0</td>\n      <td>97.0</td>\n      <td>red</td>\n      <td>no</td>\n      <td>malnutrition</td>\n      <td>ffc46af4-1d76-47a4-a5f5-df6dd3947dc8</td>\n      <td>3.0</td>\n      <td>NaN</td>\n      <td>oth_signs</td>\n      <td>NaN</td>\n    </tr>\n    <tr>\n      <th>431754</th>\n      <td>kisumu</td>\n      <td>246/23</td>\n      <td>1.0</td>\n      <td>female</td>\n      <td>NaN</td>\n      <td>None</td>\n      <td>9.90</td>\n      <td>78.0</td>\n      <td>NaN</td>\n      <td>None</td>\n      <td>yes</td>\n      <td>tuberculosis</td>\n      <td>ffe78335-d242-4d4f-832a-0e8ed6767b88</td>\n      <td>NaN</td>\n      <td>NaN</td>\n      <td>oth_signs</td>\n      <td>NaN</td>\n    </tr>\n    <tr>\n      <th>431755</th>\n      <td>kisumu</td>\n      <td>383614/19</td>\n      <td>1.0</td>\n      <td>female</td>\n      <td>36.9</td>\n      <td>None</td>\n      <td>10.00</td>\n      <td>NaN</td>\n      <td>NaN</td>\n      <td>None</td>\n      <td>yes</td>\n      <td>pneumonia</td>\n      <td>ffea0f90-ed7c-44a4-a5a5-053273a0589a</td>\n      <td>NaN</td>\n      <td>NaN</td>\n      <td>oth_signs</td>\n      <td>NaN</td>\n    </tr>\n    <tr>\n      <th>431756</th>\n      <td>kisumu</td>\n      <td>647920/22</td>\n      <td>4.0</td>\n      <td>male</td>\n      <td>37.8</td>\n      <td>None</td>\n      <td>15.00</td>\n      <td>100.8</td>\n      <td>100.0</td>\n      <td>None</td>\n      <td>yes</td>\n      <td>NaN</td>\n      <td>ffef31f9-f929-46cf-9e69-cb209a7fdea0</td>\n      <td>NaN</td>\n      <td>NaN</td>\n      <td>oth_signs</td>\n      <td>NaN</td>\n    </tr>\n    <tr>\n      <th>431757</th>\n      <td>kisumu</td>\n      <td>647920/22</td>\n      <td>4.0</td>\n      <td>male</td>\n      <td>37.8</td>\n      <td>None</td>\n      <td>15.00</td>\n      <td>100.8</td>\n      <td>100.0</td>\n      <td>None</td>\n      <td>yes</td>\n      <td>malaria</td>\n      <td>ffef31f9-f929-46cf-9e69-cb209a7fdea0</td>\n      <td>NaN</td>\n      <td>NaN</td>\n      <td>oth_signs</td>\n      <td>NaN</td>\n    </tr>\n  </tbody>\n</table>\n<p>137107 rows × 17 columns</p>\n</div>"
     },
     "execution_count": 15,
     "metadata": {},
     "output_type": "execute_result"
    }
   ],
   "source": [
    "symptoms = ['trg_signs', 'gen_signs', 'cns_signs', 'cvs_signs', 'urs_signs', 'lrs_signs', 'git_signs', 'gus_signs', 'mss_signs', 'skn_signs', 'sps_signs', 'oth_signs']\n",
    "\n",
    "df = pd.melt(df, id_vars=[i for i in df.columns if i not in symptoms],\n",
    "             value_vars=symptoms, var_name=\"system\", value_name=\"symptoms\").drop_duplicates()\n",
    "\n",
    "df"
   ],
   "metadata": {
    "collapsed": false,
    "ExecuteTime": {
     "end_time": "2024-02-27T11:10:38.075512400Z",
     "start_time": "2024-02-27T11:10:35.034933200Z"
    }
   },
   "id": "25a01f47759ddc96",
   "execution_count": 15
  },
  {
   "cell_type": "code",
   "outputs": [
    {
     "data": {
      "text/plain": "                                       _uuid     system  \\\n89      9a4284fa-d520-4ea2-91c9-c6b5b4cf0ab1  trg_signs   \n92      be2a10e3-2f40-46a5-bac1-96f5f1a80844  trg_signs   \n104     d579fbb2-f0d4-40eb-9741-e49551bc87e9  trg_signs   \n116     32782d7c-c86f-4608-a76f-b127594a2e9d  trg_signs   \n122     b80c2ef7-c924-4b44-b764-afa2b8ac9c96  trg_signs   \n...                                      ...        ...   \n431705  fe5f365a-013f-4dc0-9be0-65675e8696f3  oth_signs   \n431717  fe8a3c2f-5180-4c31-87ec-41e5b4e0300a  oth_signs   \n431737  ff4c4004-7867-40b0-a1c8-633c37b8a70a  oth_signs   \n431740  ff50663f-8367-44ef-ae62-3bbb14a3c191  oth_signs   \n431754  ffe78335-d242-4d4f-832a-0e8ed6767b88  oth_signs   \n\n                                                 symptoms        diagnosis  \n89                                                   None     tuberculosis  \n92                                                   None        diarrhoea  \n104                                                  None        diarrhoea  \n116                                                  None  gastroenteritis  \n122                                                  None        diarrhoea  \n...                                                   ...              ...  \n431705                                                NaN     tuberculosis  \n431717  getting ill often and taking a long time to re...     malnutrition  \n431737                                                NaN     tuberculosis  \n431740                                                NaN     tuberculosis  \n431754                                                NaN     tuberculosis  \n\n[53735 rows x 4 columns]",
      "text/html": "<div>\n<style scoped>\n    .dataframe tbody tr th:only-of-type {\n        vertical-align: middle;\n    }\n\n    .dataframe tbody tr th {\n        vertical-align: top;\n    }\n\n    .dataframe thead th {\n        text-align: right;\n    }\n</style>\n<table border=\"1\" class=\"dataframe\">\n  <thead>\n    <tr style=\"text-align: right;\">\n      <th></th>\n      <th>_uuid</th>\n      <th>system</th>\n      <th>symptoms</th>\n      <th>diagnosis</th>\n    </tr>\n  </thead>\n  <tbody>\n    <tr>\n      <th>89</th>\n      <td>9a4284fa-d520-4ea2-91c9-c6b5b4cf0ab1</td>\n      <td>trg_signs</td>\n      <td>None</td>\n      <td>tuberculosis</td>\n    </tr>\n    <tr>\n      <th>92</th>\n      <td>be2a10e3-2f40-46a5-bac1-96f5f1a80844</td>\n      <td>trg_signs</td>\n      <td>None</td>\n      <td>diarrhoea</td>\n    </tr>\n    <tr>\n      <th>104</th>\n      <td>d579fbb2-f0d4-40eb-9741-e49551bc87e9</td>\n      <td>trg_signs</td>\n      <td>None</td>\n      <td>diarrhoea</td>\n    </tr>\n    <tr>\n      <th>116</th>\n      <td>32782d7c-c86f-4608-a76f-b127594a2e9d</td>\n      <td>trg_signs</td>\n      <td>None</td>\n      <td>gastroenteritis</td>\n    </tr>\n    <tr>\n      <th>122</th>\n      <td>b80c2ef7-c924-4b44-b764-afa2b8ac9c96</td>\n      <td>trg_signs</td>\n      <td>None</td>\n      <td>diarrhoea</td>\n    </tr>\n    <tr>\n      <th>...</th>\n      <td>...</td>\n      <td>...</td>\n      <td>...</td>\n      <td>...</td>\n    </tr>\n    <tr>\n      <th>431705</th>\n      <td>fe5f365a-013f-4dc0-9be0-65675e8696f3</td>\n      <td>oth_signs</td>\n      <td>NaN</td>\n      <td>tuberculosis</td>\n    </tr>\n    <tr>\n      <th>431717</th>\n      <td>fe8a3c2f-5180-4c31-87ec-41e5b4e0300a</td>\n      <td>oth_signs</td>\n      <td>getting ill often and taking a long time to re...</td>\n      <td>malnutrition</td>\n    </tr>\n    <tr>\n      <th>431737</th>\n      <td>ff4c4004-7867-40b0-a1c8-633c37b8a70a</td>\n      <td>oth_signs</td>\n      <td>NaN</td>\n      <td>tuberculosis</td>\n    </tr>\n    <tr>\n      <th>431740</th>\n      <td>ff50663f-8367-44ef-ae62-3bbb14a3c191</td>\n      <td>oth_signs</td>\n      <td>NaN</td>\n      <td>tuberculosis</td>\n    </tr>\n    <tr>\n      <th>431754</th>\n      <td>ffe78335-d242-4d4f-832a-0e8ed6767b88</td>\n      <td>oth_signs</td>\n      <td>NaN</td>\n      <td>tuberculosis</td>\n    </tr>\n  </tbody>\n</table>\n<p>53735 rows × 4 columns</p>\n</div>"
     },
     "execution_count": 16,
     "metadata": {},
     "output_type": "execute_result"
    }
   ],
   "source": [
    "df___ = df[[\"_uuid\", \"system\", \"symptoms\", \"diagnosis\"]].dropna(subset=\"diagnosis\").drop_duplicates()\n",
    "\n",
    "df___"
   ],
   "metadata": {
    "collapsed": false,
    "ExecuteTime": {
     "end_time": "2024-02-27T11:10:38.319679Z",
     "start_time": "2024-02-27T11:10:38.076629400Z"
    }
   },
   "id": "7f7f1d6eb94db229",
   "execution_count": 16
  },
  {
   "cell_type": "code",
   "outputs": [
    {
     "name": "stderr",
     "output_type": "stream",
     "text": [
      "C:\\Users\\kisee\\AppData\\Local\\Programs\\Python\\Python311\\Lib\\site-packages\\seaborn\\axisgrid.py:123: UserWarning: Tight layout not applied. tight_layout cannot make axes width small enough to accommodate all axes decorations\n",
      "  self._figure.tight_layout(*args, **kwargs)\n"
     ]
    },
    {
     "data": {
      "text/plain": "<seaborn.axisgrid.FacetGrid at 0x1dcb0046550>"
     },
     "execution_count": 17,
     "metadata": {},
     "output_type": "execute_result"
    },
    {
     "data": {
      "text/plain": "<Figure size 1465.38x600 with 6 Axes>",
      "image/png": "[encoded data removed]"
     },
     "metadata": {},
     "output_type": "display_data"
    }
   ],
   "source": [
    "# Use catplot to plot the symptoms and diagnosis\n",
    "import seaborn as sns\n",
    "import matplotlib.pyplot as plt\n",
    "\n",
    "# Filter for top five diagnosis\n",
    "top_six = df___.diagnosis.value_counts().head(6).index.tolist()\n",
    "df___ = df___.loc[df___.diagnosis.isin(top_six)]\n",
    "\n",
    "# Plot\n",
    "g = sns.catplot(x=\"symptoms\", hue=\"system\", col=\"diagnosis\", col_wrap=3,\n",
    "                data=df___, kind=\"count\", height=3, aspect=1.5)\n",
    "\n",
    "g.set_xticklabels(rotation=90)"
   ],
   "metadata": {
    "collapsed": false,
    "ExecuteTime": {
     "end_time": "2024-02-27T11:10:44.886795700Z",
     "start_time": "2024-02-27T11:10:38.224784300Z"
    }
   },
   "id": "6dd8b3c68f943562",
   "execution_count": 17
  },
  {
   "cell_type": "code",
   "outputs": [
    {
     "data": {
      "text/plain": "duration  symptoms\n2.0       headache    348\n3.0       headache    239\n1.0       headache    160\n7.0       headache    149\n5.0       headache     88\n4.0       headache     84\n14.0      headache     44\n8.0       headache      8\n10.0      headache      8\n30.0      headache      4\n21.0      headache      3\n6.0       headache      2\n12.0      headache      1\n15.0      headache      1\n90.0      headache      1\n3021.0    headache      1\nName: count, dtype: int64"
     },
     "execution_count": 18,
     "metadata": {},
     "output_type": "execute_result"
    }
   ],
   "source": [
    "df[['duration', 'symptoms']][df[['duration', 'symptoms']].symptoms == 'headache'].value_counts()"
   ],
   "metadata": {
    "collapsed": false,
    "ExecuteTime": {
     "end_time": "2024-02-27T11:10:44.980027900Z",
     "start_time": "2024-02-27T11:10:44.888001Z"
    }
   },
   "id": "1f5a817096c5ca83",
   "execution_count": 18
  },
  {
   "cell_type": "code",
   "outputs": [
    {
     "data": {
      "text/plain": "<Figure size 2000x1000 with 8 Axes>",
      "image/png": "[encoded data removed]"
     },
     "metadata": {},
     "output_type": "display_data"
    }
   ],
   "source": [
    "# plot tuberculosis symptoms\n",
    "# plot 1. tuberculosis symptoms by duration\n",
    "# plot 2. tuberculosis symptoms by age\n",
    "# plot 3. tuberculosis symptoms by system\n",
    "# plot 4. tuberculosis symptoms by sex\n",
    "# plot 5. tuberculosis symptoms by bmi\n",
    "# plot 6. tuberculosis symptoms by muac\n",
    "# plot 7. tuberculosis symptoms by lab investigation\n",
    "# plot 8. tuberculosis symptoms by type of tuberculosis\n",
    "\n",
    "fig, ax = plt.subplots(2, 4, figsize=(20, 10))\n",
    "\n",
    "sns.histplot(df[['duration', 'symptoms']][df[['duration', 'symptoms']].symptoms == 'tuberculosis'].duration, kde=True, ax=ax[0, 0])\n",
    "ax[0, 0].set_title('Tuberculosis symptoms by duration')\n",
    "\n",
    "sns.histplot(df[['age', 'symptoms']][df[['age', 'symptoms']].symptoms == 'tuberculosis'].age, kde=True, ax=ax[0, 1])\n",
    "ax[0, 1].set_title('Tuberculosis symptoms by age')\n",
    "\n",
    "sns.countplot(data=df[['system', 'symptoms']][df[['system', 'symptoms']].symptoms == 'tuberculosis'], x='system', ax=ax[0, 2])\n",
    "ax[0, 2].set_title('Tuberculosis symptoms by system')\n",
    "\n",
    "# sns.countplot(data=df[['system', 'symptoms']][df[['system', 'symptoms']].symptoms == 'tuberculosis'], x='sex', ax=ax[0, 3])\n",
    "# ax[0, 3].set_title('Tuberculosis symptoms by sex')\n",
    "\n",
    "# sns.histplot(df[['bmi', 'symptoms']][df[['bmi', 'symptoms']].symptoms == 'tuberculosis'].bmi, kde=True, ax=ax[1, 0])\n",
    "# ax[1, 0].set_title('Tuberculosis symptoms by bmi')\n",
    "\n",
    "# sns.countplot(df[['muac', 'symptoms']][df[['muac', 'symptoms']].symptoms == 'tuberculosis'], x='muac', ax=ax[1, 0])\n",
    "# ax[1, 0].set_title('Tuberculosis symptoms by muac')\n",
    "# \n",
    "# sns.countplot(data=df[['lab_investigation', 'symptoms']][df[['lab_investigation', 'symptoms']].symptoms == 'tuberculosis'], x='lab_investigation', ax=ax[1, 2])\n",
    "# ax[1, 2].set_title('Tuberculosis symptoms by lab investigation')\n",
    "\n",
    "# sns.countplot(data=df[['type_of_tuberculosis', 'symptoms']][df[['type_of_tuberculosis', 'symptoms']].symptoms == 'tuberculosis'], x='type_of_tuberculosis', ax=ax[1, 3])\n",
    "# ax[1, 3].set_title('Tuberculosis symptoms by type of tuberculosis')\n",
    "\n",
    "plt.show()"
   ],
   "metadata": {
    "collapsed": false,
    "ExecuteTime": {
     "end_time": "2024-02-27T11:10:46.507600400Z",
     "start_time": "2024-02-27T11:10:44.928652600Z"
    }
   },
   "id": "42d7b030666fbef1",
   "execution_count": 19
  },
  {
   "cell_type": "code",
   "outputs": [],
   "source": [],
   "metadata": {
    "collapsed": false,
    "ExecuteTime": {
     "end_time": "2024-02-27T11:10:46.516168100Z",
     "start_time": "2024-02-27T11:10:46.509347800Z"
    }
   },
   "id": "566fd9d83356354",
   "execution_count": 19
  }
 ],
 "metadata": {
  "kernelspec": {
   "display_name": "Python 3",
   "language": "python",
   "name": "python3"
  },
  "language_info": {
   "codemirror_mode": {
    "name": "ipython",
    "version": 2
   },
   "file_extension": ".py",
   "mimetype": "text/x-python",
   "name": "python",
   "nbconvert_exporter": "python",
   "pygments_lexer": "ipython2",
   "version": "2.7.6"
  }
 },
 "nbformat": 4,
 "nbformat_minor": 5
}
